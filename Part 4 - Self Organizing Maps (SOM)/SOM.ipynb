{
 "cells": [
  {
   "cell_type": "code",
   "execution_count": null,
   "source": [
    "pip install MiniSom"
   ],
   "outputs": [],
   "metadata": {}
  },
  {
   "cell_type": "code",
   "execution_count": null,
   "source": [
    "import numpy as np\r\n",
    "import matplotlib.pyplot as plt\r\n",
    "import pandas as pd"
   ],
   "outputs": [],
   "metadata": {}
  },
  {
   "cell_type": "code",
   "execution_count": null,
   "source": [
    "# Load the dataset\r\n",
    "dataset = pd.read_csv(\"/content/drive/MyDrive/deep learning/deep_learning_a-z/Part 4 - Self Organizing Maps (SOM)/Credit_Card_Applications.csv\")"
   ],
   "outputs": [],
   "metadata": {}
  },
  {
   "cell_type": "code",
   "execution_count": null,
   "source": [
    "# split and scale the dataset\r\n",
    "X = dataset.iloc[:, :-1].values\r\n",
    "y = dataset.iloc[:, -1].values\r\n",
    "\r\n",
    "from sklearn.preprocessing import MinMaxScaler\r\n",
    "sc = MinMaxScaler(feature_range=(0, 1))\r\n",
    "\r\n",
    "X = sc.fit_transform(X)"
   ],
   "outputs": [],
   "metadata": {}
  },
  {
   "cell_type": "code",
   "execution_count": null,
   "source": [
    "from minisom import MiniSom\r\n",
    "\r\n",
    "som = MiniSom(x = 10, y = 10, input_len = 15, sigma = 1.0, learning_rate=0.5)\r\n",
    "som.random_weights_init(X)\r\n",
    "som.train_random(data = X, num_iteration = 100)"
   ],
   "outputs": [],
   "metadata": {}
  },
  {
   "cell_type": "code",
   "execution_count": null,
   "source": [
    "# Visualizar los resultados\r\n",
    "from pylab import bone, pcolor, colorbar, plot, show\r\n",
    "bone()\r\n",
    "pcolor(som.distance_map().T)\r\n",
    "colorbar()\r\n",
    "\r\n",
    "markers = ['o', 's']\r\n",
    "colors = ['r', 'g']\r\n",
    "\r\n",
    "for i, x in enumerate(X):\r\n",
    "  w = som.winner(x)  \r\n",
    "  plot(w[0] + 0.5, w[1] + 0.5\r\n",
    "       , markers[y[i]], markeredgecolor = colors[y[i]], markerfacecolor = 'None', markersize = 10, markeredgewidth = 2)\r\n",
    "  \r\n",
    "show()\r\n"
   ],
   "outputs": [],
   "metadata": {}
  },
  {
   "cell_type": "code",
   "execution_count": null,
   "source": [
    "# encontrar fraudes\r\n",
    "mappings = som.win_map(X)\r\n",
    "\r\n",
    "\r\n",
    "frauds = np.concatenate( (mappings[(6,1)], mappings[(7,7)], mappings[(8, 1)], mappings[(8, 5)], mappings[(8, 6)]), axis = 0 )\r\n",
    "frauds = sc.inverse_transform(frauds)"
   ],
   "outputs": [],
   "metadata": {}
  }
 ],
 "metadata": {
  "orig_nbformat": 4,
  "language_info": {
   "name": "python"
  }
 },
 "nbformat": 4,
 "nbformat_minor": 2
}