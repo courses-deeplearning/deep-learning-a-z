{
 "cells": [
  {
   "cell_type": "code",
   "execution_count": null,
   "source": [
    "from google.colab import drive\r\n",
    "drive.mount('/content/drive')"
   ],
   "outputs": [],
   "metadata": {}
  },
  {
   "cell_type": "code",
   "execution_count": null,
   "source": [
    "import numpy as np\r\n",
    "import pandas as pd\r\n",
    "import matplotlib.pyplot as plt"
   ],
   "outputs": [],
   "metadata": {}
  },
  {
   "cell_type": "code",
   "execution_count": null,
   "source": [
    "# importar el dataset\r\n",
    "dataset = pd.read_csv(\"/content/drive/MyDrive/deep learning/deep_learning_a-z/machine_learning_basics/Data Preprocessing Template/Data.csv\")\r\n",
    "X = dataset.iloc[:, :-1].values\r\n",
    "y = dataset.iloc[:, 3].values"
   ],
   "outputs": [],
   "metadata": {}
  },
  {
   "cell_type": "code",
   "execution_count": null,
   "source": [
    "# dividir el dataset en conjunto de entrenamiento i testing\r\n",
    "from sklearn.model_selection import train_test_split\r\n",
    "X_train, X_test, y_train, y_test = train_test_split(X, y, test_size=0.2, random_state = 0)\r\n",
    "\r\n",
    "# escalado de variables\r\n",
    "\"\"\"\r\n",
    "from sklearn.preprocessing import StandardScaler\r\n",
    "sc_X = StandardScaler()\r\n",
    "X_train = sc_X.fit_transform(X_train)\r\n",
    "X_test = sc_X.transform(X_test)\r\n",
    "\"\"\""
   ],
   "outputs": [],
   "metadata": {}
  },
  {
   "cell_type": "code",
   "execution_count": null,
   "source": [
    "# tratamiento de los NaN\r\n",
    "from sklearn.impute import SimpleImputer\r\n",
    "\r\n",
    "imputer = SimpleImputer(missing_values=np.nan, strategy=\"mean\")\r\n",
    "imputer = imputer.fit(X[:, 1:3])\r\n",
    "X[:, 1:3] = imputer.transform(X[:, 1:3])"
   ],
   "outputs": [],
   "metadata": {}
  },
  {
   "cell_type": "code",
   "execution_count": null,
   "source": [
    "# codificar datos categoricos\r\n",
    "from sklearn.preprocessing import LabelEncoder, OneHotEncoder\r\n",
    "from sklearn.compose import ColumnTransformer\r\n",
    "\r\n",
    "labelencoder_X = LabelEncoder()\r\n",
    "X[:, 0] = labelencoder_X.fit_transform(X[:, 0])\r\n",
    "\r\n",
    "ctc = ColumnTransformer(\r\n",
    "    [('one_hot_encoder', OneHotEncoder(categories='auto'), [0])],   # The column numbers to be transformed (here is [0] but can be [0, 1, 3])\r\n",
    "    remainder='passthrough'                                         # Leave the rest of the columns untouched\r\n",
    ")\r\n",
    "\r\n",
    "X = ctc.fit_transform(X)\r\n",
    "\r\n",
    "labelencoder_y = LabelEncoder()\r\n",
    "y = labelencoder_y.fit_transform(y)\r\n"
   ],
   "outputs": [],
   "metadata": {}
  }
 ],
 "metadata": {
  "orig_nbformat": 4,
  "language_info": {
   "name": "python"
  }
 },
 "nbformat": 4,
 "nbformat_minor": 2
}