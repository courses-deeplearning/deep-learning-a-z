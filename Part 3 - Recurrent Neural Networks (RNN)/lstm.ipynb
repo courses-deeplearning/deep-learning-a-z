{
 "cells": [
  {
   "cell_type": "code",
   "execution_count": null,
   "source": [
    "from google.colab import drive\r\n",
    "drive.mount('/content/drive')"
   ],
   "outputs": [],
   "metadata": {}
  },
  {
   "cell_type": "code",
   "execution_count": null,
   "source": [
    "import numpy as np\r\n",
    "import pandas as pd\r\n",
    "import matplotlib.pyplot as plt"
   ],
   "outputs": [],
   "metadata": {}
  },
  {
   "cell_type": "code",
   "execution_count": null,
   "source": [
    "# Preprocessing data\r\n",
    "dataset_train = pd.read_csv('/content/drive/MyDrive/deep learning/deep_learning_a-z/Part 3 - Recurrent Neural Networks (RNN)/Google_Stock_Price_Train.csv')\r\n",
    "training_set = dataset_train.iloc[:, 1:2].values"
   ],
   "outputs": [],
   "metadata": {}
  },
  {
   "cell_type": "code",
   "execution_count": null,
   "source": [
    "# scale the data\r\n",
    "from sklearn.preprocessing import MinMaxScaler\r\n",
    "\r\n",
    "sc = MinMaxScaler(feature_range=(0, 1))\r\n",
    "\r\n",
    "training_set_scaled = sc.fit_transform(training_set)"
   ],
   "outputs": [],
   "metadata": {}
  },
  {
   "cell_type": "code",
   "execution_count": null,
   "source": [
    "# timesteps\r\n",
    "X_train = []\r\n",
    "y_train = []\r\n",
    "\r\n",
    "for i in range(60, 1257):\r\n",
    "  X_train.append(training_set_scaled[i - 60:i, 0])\r\n",
    "  y_train.append(training_set_scaled[i, 0])\r\n",
    "\r\n",
    "X_train, y_train = np.array(X_train), np.array(y_train)\r\n",
    "\r\n",
    "X_train = np.reshape(X_train, (X_train.shape[0], X_train.shape[1], 1))"
   ],
   "outputs": [],
   "metadata": {}
  },
  {
   "cell_type": "code",
   "execution_count": null,
   "source": [
    "# The build of the RNR\r\n",
    "from keras.models import Sequential\r\n",
    "from keras.layers import Dense, LSTM, Dropout\r\n",
    "\r\n",
    "regressor = Sequential()\r\n",
    "\r\n",
    "# First LSTM layer\r\n",
    "regressor.add(LSTM(units = 50, return_sequences = True, input_shape = (X_train.shape[1], 1) ))\r\n",
    "regressor.add(Dropout(0.2))\r\n",
    "\r\n",
    "# Second LSTM layer\r\n",
    "regressor.add(LSTM(units = 50, return_sequences = True))\r\n",
    "regressor.add(Dropout(0.2))\r\n",
    "\r\n",
    "# Third LSTM layer\r\n",
    "regressor.add(LSTM(units = 50, return_sequences = True))\r\n",
    "regressor.add(Dropout(0.2))\r\n",
    "\r\n",
    "# Quarter LSTM layer\r\n",
    "regressor.add(LSTM(units = 50))\r\n",
    "regressor.add(Dropout(0.2))\r\n",
    "\r\n",
    "# Add the fully connected layer\r\n",
    "regressor.add(Dense(units = 1))\r\n",
    "\r\n",
    "# Compile the model\r\n",
    "regressor.compile(optimizer = 'adam', loss = 'mean_squared_error')"
   ],
   "outputs": [],
   "metadata": {}
  },
  {
   "cell_type": "code",
   "execution_count": null,
   "source": [
    "# Train the model\r\n",
    "regressor.fit(X_train, y_train, epochs=100, batch_size=32)"
   ],
   "outputs": [],
   "metadata": {}
  },
  {
   "cell_type": "code",
   "execution_count": null,
   "source": [
    "# Predict the values of january 2017\r\n",
    "dataset_test = pd.read_csv('/content/drive/MyDrive/deep learning/deep_learning_a-z/Part 3 - Recurrent Neural Networks (RNN)/Google_Stock_Price_Test.csv')\r\n",
    "real_stock_price = dataset_test.iloc[:, 1:2].values\r\n",
    "\r\n",
    "# Prepare the data for doing the predictions\r\n",
    "dataset_total = pd.concat((dataset_train['Open'], dataset_test['Open']), axis=0)\r\n",
    "inputs = dataset_total[len(dataset_total) - len(dataset_test) - 60:].values\r\n",
    "inputs = inputs.reshape(-1, 1)\r\n",
    "inputs = sc.transform(inputs)\r\n",
    "X_test = []\r\n",
    "for i in range(60, 80):\r\n",
    "  X_test.append(inputs[i-60:i, 0])\r\n",
    "X_test = np.array(X_test)\r\n",
    "X_test = np.reshape(X_test, (X_test.shape[0], X_test.shape[1], 1))\r\n",
    "\r\n",
    "predicted_stock_price = regressor.predict(X_test)\r\n",
    "predicted_stock_price = sc.inverse_transform(predicted_stock_price)"
   ],
   "outputs": [],
   "metadata": {}
  },
  {
   "cell_type": "code",
   "execution_count": null,
   "source": [
    "# Make the grafic to see the data\r\n",
    "plt.plot(real_stock_price, color = 'red', label = 'Precio real de la accion')\r\n",
    "plt.plot(predicted_stock_price, color = 'blue', label = 'Precio predicho de la accion')\r\n",
    "plt.title('Prediccion con una red neuronal recurrente el precio de una accion de google')\r\n",
    "plt.xlabel('Fecha')\r\n",
    "plt.ylabel('Precio de la accion de google')\r\n",
    "plt.show"
   ],
   "outputs": [],
   "metadata": {}
  }
 ],
 "metadata": {
  "orig_nbformat": 4,
  "language_info": {
   "name": "python"
  }
 },
 "nbformat": 4,
 "nbformat_minor": 2
}